{
 "cells": [
  {
   "cell_type": "code",
   "execution_count": null,
   "id": "756d4bac",
   "metadata": {},
   "outputs": [],
   "source": [
    "#Julian David Gutiérrez Pérez"
   ]
  },
  {
   "cell_type": "code",
   "execution_count": null,
   "id": "a6f6681f",
   "metadata": {},
   "outputs": [],
   "source": [
    "import pandas as pd\n",
    "import numpy as np\n",
    "from sklearn.model_selection import train_test_split\n",
    "from sklearn.tree import DecisionTreeClassifier, plot_tree\n",
    "from sklearn.metrics import accuracy_score\n",
    "import matplotlib.pyplot as plt\n",
    "\n",
    "# Cargar el conjunto de datos como \"arbol\"\n",
    "arbol = pd.read_csv('wine.data')\n",
    "\n",
    "# Mostrar la forma y descripción del conjunto de datos\n",
    "print(\"Forma del conjunto de datos:\")\n",
    "print(arbol.shape)\n",
    "print(\"\\nDescripción del conjunto de datos:\")\n",
    "print(arbol.describe())"
   ]
  }
 ],
 "metadata": {
  "kernelspec": {
   "display_name": "Python 3 (ipykernel)",
   "language": "python",
   "name": "python3"
  },
  "language_info": {
   "codemirror_mode": {
    "name": "ipython",
    "version": 3
   },
   "file_extension": ".py",
   "mimetype": "text/x-python",
   "name": "python",
   "nbconvert_exporter": "python",
   "pygments_lexer": "ipython3",
   "version": "3.11.4"
  }
 },
 "nbformat": 4,
 "nbformat_minor": 5
}
